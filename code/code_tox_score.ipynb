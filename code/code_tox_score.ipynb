{
 "cells": [
  {
   "cell_type": "markdown",
   "metadata": {},
   "source": [
    "# Current Topics and Projects\n",
    "## 2. Perspective toxicity score"
   ]
  },
  {
   "cell_type": "code",
   "execution_count": 1,
   "metadata": {
    "tags": []
   },
   "outputs": [],
   "source": [
    "'''\n",
    "This is the fourth file to be runned.\n",
    "This file requests the perspective api scores and saves them to the data.\n",
    "This file takes apprx. 14h tu runn with not extention\n",
    "We got a request extention of 20 requests per second.\n",
    "'''\n",
    "\n",
    "import json\n",
    "import requests \n",
    "import time\n",
    "import pandas as pd\n",
    "import csv\n",
    "from tqdm import tqdm"
   ]
  },
  {
   "cell_type": "code",
   "execution_count": 4,
   "metadata": {
    "tags": []
   },
   "outputs": [
    {
     "data": {
      "text/plain": [
       "14373"
      ]
     },
     "execution_count": 4,
     "metadata": {},
     "output_type": "execute_result"
    }
   ],
   "source": [
    "# Read the CSV file and create a DataFrame\n",
    "df = pd.read_csv('data/raw/comments.csv')\n"
   ]
  },
  {
   "cell_type": "code",
   "execution_count": 5,
   "metadata": {
    "tags": []
   },
   "outputs": [],
   "source": [
    "# Function to send text to Perspective API and get scores\n",
    "# dependent on your api key you have to take the first function which only allows one request per second\n",
    "def get_perspective_scores(text):\n",
    "    '''\n",
    "    This function retrieves the api scores and waits 1 sec for each request\n",
    "    '''\n",
    "    # Replace 'api_key' with your actual Perspective API key\n",
    "    api_key = \"\"\n",
    "    url = \"https://commentanalyzer.googleapis.com/v1alpha1/comments:analyze\"\n",
    "    data = {\n",
    "        \"comment\": {\"text\": text},\n",
    "        \"requestedAttributes\": {\n",
    "            \"TOXICITY\": {},\n",
    "            \"SEVERE_TOXICITY\": {},\n",
    "            \"IDENTITY_ATTACK\": {},\n",
    "            \"INSULT\": {},\n",
    "            \"THREAT\": {}},\n",
    "        \"languages\": [\"de\"]\n",
    "    }\n",
    "    \n",
    "    try:\n",
    "        response = requests.post(\n",
    "            url,\n",
    "            params={\"key\": api_key},\n",
    "            headers={\"Content-Type\": \"application/json\"},\n",
    "            json=data\n",
    "        )\n",
    "    \n",
    "        scores = {}\n",
    "\n",
    "        if response.status_code == 200:\n",
    "            response_data = json.loads(response.text)\n",
    "            attrscores = response_data['attributeScores']\n",
    "            for attribute in attrscores:\n",
    "                score = attrscores[attribute]['summaryScore']['value']\n",
    "                scores[attribute.lower()] = score\n",
    "\n",
    "        else:\n",
    "            print(\"Error:\", response.status_code, response.text)   \n",
    "    except requests.exceptions.RequestException as e:\n",
    "        print(\"Error:\", str(e))\n",
    "\n",
    "    return scores"
   ]
  },
  {
   "cell_type": "code",
   "execution_count": 6,
   "metadata": {
    "tags": []
   },
   "outputs": [],
   "source": [
    "# Function to send text to Perspective API and get scores\n",
    "def get_perspective_scores(text):\n",
    "    '''\n",
    "    This function retrieves the api scores and waits 1 sec for each 20 request\n",
    "    '''\n",
    "    # Replace 'api_key' with your actual Perspective API key\n",
    "    api_key = \"\"\n",
    "    url = \"https://commentanalyzer.googleapis.com/v1alpha1/comments:analyze\"\n",
    "    data = {\n",
    "        \"comment\": {\"text\": text},\n",
    "        \"requestedAttributes\": {\n",
    "            \"TOXICITY\": {},\n",
    "            \"SEVERE_TOXICITY\": {},\n",
    "            \"IDENTITY_ATTACK\": {},\n",
    "            \"INSULT\": {},\n",
    "            \"THREAT\": {}\n",
    "        },\n",
    "        \"languages\": [\"de\"]\n",
    "    }\n",
    "    \n",
    "    # Counter variables\n",
    "    request_count = 0\n",
    "    sleep_interval = 20\n",
    "    \n",
    "    try:\n",
    "        response = requests.post(\n",
    "            url,\n",
    "            params={\"key\": api_key},\n",
    "            headers={\"Content-Type\": \"application/json\"},\n",
    "            json=data\n",
    "        )\n",
    "        \n",
    "        request_count += 1\n",
    "        \n",
    "        # Check if the request count reaches the limit\n",
    "        if request_count % sleep_interval == 0:\n",
    "            time.sleep(1)  # Sleep for 1 second\n",
    "        \n",
    "        scores = {}\n",
    "\n",
    "        if response.status_code == 200:\n",
    "            response_data = json.loads(response.text)\n",
    "            attrscores = response_data['attributeScores']\n",
    "            for attribute in attrscores:\n",
    "                score = attrscores[attribute]['summaryScore']['value']\n",
    "                scores[attribute.lower()] = score\n",
    "\n",
    "        else:\n",
    "            print(\"Error:\", response.status_code, response.text)   \n",
    "    except requests.exceptions.RequestException as e:\n",
    "        print(\"Error:\", str(e))\n",
    "\n",
    "    return scores"
   ]
  },
  {
   "cell_type": "code",
   "execution_count": 7,
   "metadata": {
    "tags": []
   },
   "outputs": [
    {
     "name": "stderr",
     "output_type": "stream",
     "text": [
      "Processing: 100%|██████████| 14373/14373 [16:50<00:00, 14.22it/s]\n"
     ]
    }
   ],
   "source": [
    "# Use tqdm to display the progress bar\n",
    "for i, row in tqdm(df.iterrows(), total=len(df), desc=\"Processing\"):\n",
    "    text = str(row['text'])\n",
    "    scores = get_perspective_scores(text)\n",
    "\n",
    "    # Add scores as new columns\n",
    "    for attribute, score in scores.items():\n",
    "        column_name = attribute\n",
    "        df.loc[i, column_name] = score\n",
    "        "
   ]
  },
  {
   "cell_type": "code",
   "execution_count": 12,
   "metadata": {
    "tags": []
   },
   "outputs": [],
   "source": [
    "df.to_csv('data/raw/comments_scores.csv', index=False)"
   ]
  }
 ],
 "metadata": {
  "kernelspec": {
   "display_name": "Python 3 (ipykernel)",
   "language": "python",
   "name": "python3"
  },
  "language_info": {
   "codemirror_mode": {
    "name": "ipython",
    "version": 3
   },
   "file_extension": ".py",
   "mimetype": "text/x-python",
   "name": "python",
   "nbconvert_exporter": "python",
   "pygments_lexer": "ipython3",
   "version": "3.9.13"
  }
 },
 "nbformat": 4,
 "nbformat_minor": 4
}
