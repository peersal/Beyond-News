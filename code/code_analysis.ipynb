{
 "cells": [
  {
   "cell_type": "markdown",
   "metadata": {},
   "source": [
    "# Current Topics and Projects\n",
    "## Analysis"
   ]
  },
  {
   "cell_type": "code",
   "execution_count": 4,
   "metadata": {},
   "outputs": [],
   "source": [
    "import pandas as pd\n",
    "import numpy as np\n",
    "import seaborn as sns\n",
    "import statsmodels.api as sm\n",
    "from statsmodels.discrete.discrete_model import MNLogit\n",
    "from sklearn.impute import SimpleImputer\n",
    "from sklearn.model_selection import train_test_split\n",
    "import matplotlib.pyplot as plt\n",
    "from sklearn import linear_model, metrics\n",
    "from tabulate import tabulate\n",
    "from pystout import pystout\n"
   ]
  },
  {
   "cell_type": "code",
   "execution_count": 3,
   "metadata": {},
   "outputs": [
    {
     "name": "stdout",
     "output_type": "stream",
     "text": [
      "Defaulting to user installation because normal site-packages is not writeable\n",
      "Collecting pystout\n",
      "  Downloading pystout-0.0.7-py3-none-any.whl (20 kB)\n",
      "Requirement already satisfied: numpy in c:\\programdata\\anaconda3\\lib\\site-packages (from pystout) (1.21.5)\n",
      "Requirement already satisfied: pandas>=0.25 in c:\\programdata\\anaconda3\\lib\\site-packages (from pystout) (1.4.4)\n",
      "Requirement already satisfied: python-dateutil>=2.8.1 in c:\\programdata\\anaconda3\\lib\\site-packages (from pandas>=0.25->pystout) (2.8.2)\n",
      "Requirement already satisfied: pytz>=2020.1 in c:\\programdata\\anaconda3\\lib\\site-packages (from pandas>=0.25->pystout) (2022.1)\n",
      "Requirement already satisfied: six>=1.5 in c:\\programdata\\anaconda3\\lib\\site-packages (from python-dateutil>=2.8.1->pandas>=0.25->pystout) (1.16.0)\n",
      "Installing collected packages: pystout\n",
      "Successfully installed pystout-0.0.7\n"
     ]
    }
   ],
   "source": [
    "#!pip install pystout"
   ]
  },
  {
   "cell_type": "code",
   "execution_count": null,
   "metadata": {},
   "outputs": [],
   "source": [
    "data = pd.read_csv('Data/comments_final.csv')\n",
    "data_videos = pd.read_csv('C:/Users/Raphaela/Documents/MA_Studium/2. Semester/Current topics in Social Data Science/data/videos.csv')"
   ]
  },
  {
   "cell_type": "code",
   "execution_count": 7,
   "metadata": {},
   "outputs": [
    {
     "data": {
      "text/plain": [
       "0.2773784421232092"
      ]
     },
     "execution_count": 7,
     "metadata": {},
     "output_type": "execute_result"
    }
   ],
   "source": [
    "data = pd.read_csv('Data/comments_final.csv')\n",
    "data['toxicity'].corr(data['prob_neg'])"
   ]
  },
  {
   "cell_type": "code",
   "execution_count": 15,
   "metadata": {},
   "outputs": [
    {
     "name": "stdout",
     "output_type": "stream",
     "text": [
      "<class 'pandas.core.frame.DataFrame'>\n",
      "RangeIndex: 154122 entries, 0 to 154121\n",
      "Data columns (total 24 columns):\n",
      " #   Column           Non-Null Count   Dtype  \n",
      "---  ------           --------------   -----  \n",
      " 0   commentID        154122 non-null  object \n",
      " 1   text             154122 non-null  object \n",
      " 2   publishedAt      154122 non-null  object \n",
      " 3   authorID         154122 non-null  object \n",
      " 4   likeCount        154122 non-null  int64  \n",
      " 5   totalReplyCount  154122 non-null  int64  \n",
      " 6   parentID         154122 non-null  object \n",
      " 7   videoID          154122 non-null  object \n",
      " 8   channelId        154122 non-null  object \n",
      " 9   username         154074 non-null  object \n",
      " 10  threat           154121 non-null  float64\n",
      " 11  toxicity         154121 non-null  float64\n",
      " 12  identity_attack  154121 non-null  float64\n",
      " 13  insult           154121 non-null  float64\n",
      " 14  severe_toxicity  154121 non-null  float64\n",
      " 15  sentiment        154122 non-null  object \n",
      " 16  prob_pos         154122 non-null  float64\n",
      " 17  prob_neg         154122 non-null  float64\n",
      " 18  prob_neu         154122 non-null  float64\n",
      " 19  clean_tokens     154122 non-null  object \n",
      " 20  clean_text       150000 non-null  object \n",
      " 21  channelName      154122 non-null  object \n",
      " 22  repliedID        154122 non-null  object \n",
      " 23  repliedName      6190 non-null    object \n",
      "dtypes: float64(8), int64(2), object(14)\n",
      "memory usage: 28.2+ MB\n"
     ]
    }
   ],
   "source": [
    "\n",
    "data_videos.info()"
   ]
  },
  {
   "cell_type": "markdown",
   "metadata": {},
   "source": [
    "### Research Question 1: \n",
    "Do YouTube comments on German political YouTube accounts from the left, middle, and right exhibit significant differences in polarity and toxicity"
   ]
  },
  {
   "cell_type": "code",
   "execution_count": 11,
   "metadata": {},
   "outputs": [
    {
     "data": {
      "text/plain": [
       "count    154121.000000\n",
       "mean          0.391028\n",
       "std           0.260157\n",
       "min           0.000001\n",
       "25%           0.125806\n",
       "50%           0.378279\n",
       "75%           0.598848\n",
       "max           1.000000\n",
       "Name: toxicity, dtype: float64"
      ]
     },
     "execution_count": 11,
     "metadata": {},
     "output_type": "execute_result"
    }
   ],
   "source": [
    "data[\"toxicity\"].describe()"
   ]
  },
  {
   "cell_type": "code",
   "execution_count": 60,
   "metadata": {},
   "outputs": [],
   "source": [
    "# prepare variabels for model\n",
    "X = data[['toxicity', 'prob_neg']]\n",
    "y = data['channelName']"
   ]
  },
  {
   "cell_type": "code",
   "execution_count": 61,
   "metadata": {},
   "outputs": [
    {
     "name": "stdout",
     "output_type": "stream",
     "text": [
      "toxicity    1\n",
      "prob_neg    0\n",
      "dtype: int64\n"
     ]
    }
   ],
   "source": [
    "# check for missing values\n",
    "missing_values = X.isnull().sum()\n",
    "print(missing_values)\n",
    "\n",
    "# replace NA with mean\n",
    "imputer = SimpleImputer(strategy='mean')\n",
    "X = imputer.fit_transform(X)"
   ]
  },
  {
   "cell_type": "code",
   "execution_count": 72,
   "metadata": {},
   "outputs": [
    {
     "name": "stdout",
     "output_type": "stream",
     "text": [
      "Optimization terminated successfully.\n",
      "         Current function value: 0.537516\n",
      "         Iterations 6\n",
      "\\begin{center}\n",
      "\\begin{tabular}{lclc}\n",
      "\\toprule\n",
      "\\textbf{Dep. Variable:}           &   channelName    & \\textbf{  No. Observations:  } &   154122    \\\\\n",
      "\\textbf{Model:}                   &     MNLogit      & \\textbf{  Df Residuals:      } &   154116    \\\\\n",
      "\\textbf{Method:}                  &       MLE        & \\textbf{  Df Model:          } &        4    \\\\\n",
      "\\textbf{Date:}                    & Tue, 22 Aug 2023 & \\textbf{  Pseudo R-squ.:     } &  0.01152    \\\\\n",
      "\\textbf{Time:}                    &     11:01:12     & \\textbf{  Log-Likelihood:    } &   -82843.   \\\\\n",
      "\\textbf{converged:}               &       True       & \\textbf{  LL-Null:           } &   -83808.   \\\\\n",
      "\\textbf{Covariance Type:}         &    nonrobust     & \\textbf{  LLR p-value:       } &    0.000    \\\\\n",
      "\\bottomrule\n",
      "\\end{tabular}\n",
      "\\begin{tabular}{ccccccc}\n",
      " \\textbf{channelName=DW Deutsch}  & \\textbf{coef} & \\textbf{std err} & \\textbf{z} & \\textbf{P$> |$z$|$} & \\textbf{[0.025} & \\textbf{0.975]}  \\\\\n",
      "\\midrule\n",
      "\\bottomrule\n",
      "\\end{tabular}\n",
      "\\begin{tabular}{lcccccc}\n",
      "\\textbf{const}                    &      -2.2095  &        0.017     &  -131.635  &         0.000        &       -2.242    &       -2.177     \\\\\n",
      "\\textbf{x1}                       &      -0.1842  &        0.035     &    -5.226  &         0.000        &       -0.253    &       -0.115     \\\\\n",
      "\\textbf{x2}                       &       0.1875  &        0.020     &     9.288  &         0.000        &        0.148    &        0.227     \\\\\n",
      "\\bottomrule\n",
      "\\end{tabular}\n",
      "\\begin{tabular}{ccccccc}\n",
      "\\textbf{channelName=Jung \\& Naiv} & \\textbf{coef} & \\textbf{std err} & \\textbf{z} & \\textbf{P$> |$z$|$} & \\textbf{[0.025} & \\textbf{0.975]}  \\\\\n",
      "\\midrule\n",
      "\\bottomrule\n",
      "\\end{tabular}\n",
      "\\begin{tabular}{lcccccc}\n",
      "\\textbf{const}                    &      -1.9499  &        0.018     &  -110.035  &         0.000        &       -1.985    &       -1.915     \\\\\n",
      "\\textbf{x1}                       &      -1.8471  &        0.046     &   -40.024  &         0.000        &       -1.938    &       -1.757     \\\\\n",
      "\\textbf{x2}                       &       0.0417  &        0.025     &     1.698  &         0.089        &       -0.006    &        0.090     \\\\\n",
      "\\bottomrule\n",
      "\\end{tabular}\n",
      "%\\caption{MNLogit Regression Results}\n",
      "\\end{center}\n"
     ]
    }
   ],
   "source": [
    "# add a constant to the independent variables\n",
    "X = sm.add_constant(X)\n",
    "\n",
    "# fit the multinomial logistic regression model\n",
    "model = MNLogit(y, X)\n",
    "result = model.fit()\n",
    "\n",
    "print(result.summary().as_latex())"
   ]
  },
  {
   "cell_type": "code",
   "execution_count": 74,
   "metadata": {},
   "outputs": [
    {
     "name": "stdout",
     "output_type": "stream",
     "text": [
      "\\begin{center}\n",
      "\\begin{tabular}{lclc}\n",
      "\\toprule\n",
      "\\textbf{Dep. Variable:}   &   channelName    & \\textbf{  No. Observations:  } &  154122   \\\\\n",
      "\\textbf{Model:}           &     MNLogit      & \\textbf{  Df Residuals:      } &  154116   \\\\\n",
      "\\textbf{Method:}          &       MLE        & \\textbf{  Df Model:          } &       4   \\\\\n",
      "\\textbf{Date:}            & Tue, 22 Aug 2023 & \\textbf{  Pseudo R-squ.:     } & 0.01152   \\\\\n",
      "\\textbf{Time:}            &     11:03:27     & \\textbf{  Log-Likelihood:    } &  -82843.  \\\\\n",
      "\\textbf{converged:}       &       True       & \\textbf{  LL-Null:           } &  -83808.  \\\\\n",
      "\\textbf{Covariance Type:} &    nonrobust     & \\textbf{  LLR p-value:       } &   0.000   \\\\\n",
      "\\bottomrule\n",
      "\\end{tabular}\n",
      "%\\caption{MNLogit Regression Results}\n",
      "\\end{center}\n",
      "\\begin{center}\n",
      "\\begin{tabular}{ccccccc}\n",
      "\\toprule\n",
      " \\textbf{channelName=DW Deutsch}  & \\textbf{coef} & \\textbf{std err} & \\textbf{z} & \\textbf{P$> |$z$|$} & \\textbf{[0.025} & \\textbf{0.975]}  \\\\\n",
      "\\midrule\n",
      "\\bottomrule\n",
      "\\end{tabular}\n",
      "\\begin{tabular}{lcccccc}\n",
      "\\textbf{const}                    &      -2.2095  &        0.017     &  -131.635  &         0.000        &       -2.242    &       -2.177     \\\\\n",
      "\\textbf{x1}                       &      -0.1842  &        0.035     &    -5.226  &         0.000        &       -0.253    &       -0.115     \\\\\n",
      "\\textbf{x2}                       &       0.1875  &        0.020     &     9.288  &         0.000        &        0.148    &        0.227     \\\\\n",
      "\\bottomrule\n",
      "\\end{tabular}\n",
      "\\begin{tabular}{ccccccc}\n",
      "\\textbf{channelName=Jung \\& Naiv} & \\textbf{coef} & \\textbf{std err} & \\textbf{z} & \\textbf{P$> |$z$|$} & \\textbf{[0.025} & \\textbf{0.975]}  \\\\\n",
      "\\midrule\n",
      "\\bottomrule\n",
      "\\end{tabular}\n",
      "\\begin{tabular}{lcccccc}\n",
      "\\textbf{const}                    &      -1.9499  &        0.018     &  -110.035  &         0.000        &       -1.985    &       -1.915     \\\\\n",
      "\\textbf{x1}                       &      -1.8471  &        0.046     &   -40.024  &         0.000        &       -1.938    &       -1.757     \\\\\n",
      "\\textbf{x2}                       &       0.0417  &        0.025     &     1.698  &         0.089        &       -0.006    &        0.090     \\\\\n",
      "\\bottomrule\n",
      "\\end{tabular}\n",
      "\\end{center}\n"
     ]
    }
   ],
   "source": [
    "for table in result.summary().tables:\n",
    "    print(table.as_latex_tabular())"
   ]
  },
  {
   "cell_type": "markdown",
   "metadata": {},
   "source": [
    "### Check conditions for logistic regression"
   ]
  },
  {
   "cell_type": "code",
   "execution_count": 8,
   "metadata": {},
   "outputs": [
    {
     "name": "stdout",
     "output_type": "stream",
     "text": [
      "eval_env: 1\n",
      "eval_env: 1\n",
      "eval_env: 1\n",
      "channelName       DW Deutsch                     Jung & Naiv             \n",
      "                       const        x1        x2       const        x1   \n",
      "channelName                                                              \n",
      "DW Deutsch  const   0.000331 -0.000539 -0.000147    0.000030 -0.000045  \\\n",
      "            x1     -0.000539  0.002220 -0.000320   -0.000045  0.000141   \n",
      "            x2     -0.000147 -0.000320  0.000641   -0.000011 -0.000024   \n",
      "Jung & Naiv const   0.000030 -0.000045 -0.000011    0.000312 -0.000510   \n",
      "            x1     -0.000045  0.000141 -0.000024   -0.000510  0.002133   \n",
      "            x2     -0.000011 -0.000024  0.000048   -0.000140 -0.000304   \n",
      "\n",
      "channelName                  \n",
      "                         x2  \n",
      "channelName                  \n",
      "DW Deutsch  const -0.000011  \n",
      "            x1    -0.000024  \n",
      "            x2     0.000048  \n",
      "Jung & Naiv const -0.000140  \n",
      "            x1    -0.000304  \n",
      "            x2     0.000606  \n"
     ]
    },
    {
     "data": {
      "image/png": "[encoded data removed]",
      "text/plain": [
       "<Figure size 640x480 with 3 Axes>"
      ]
     },
     "metadata": {},
     "output_type": "display_data"
    }
   ],
   "source": [
    "# 1. Linearity of Log-Odds\n",
    "sm.graphics.plot_partregress_grid(result)\n",
    "\n",
    "# 2. Independence of Observations: assumed\n",
    "\n",
    "# 3. No Multicollinearity: almost no correlation between independent variables\n",
    "cov_matrix = result.cov_params()\n",
    "print(cov_matrix)\n",
    "\n",
    "# 4. Large Sample Size: reasonable sample size of 149170\n",
    "\n",
    "# 5. No Outliers: no unusual patterns or outliers\n",
    "\n",
    "# 6. No Perfect Separation: independent variable has low variance"
   ]
  },
  {
   "cell_type": "markdown",
   "metadata": {},
   "source": [
    "### Research Question 2: \n",
    "What are the underlying factors that contribute to the polarity and toxicity of YouTube comments on German political YouTube accounts from the left, middle, and right?"
   ]
  },
  {
   "cell_type": "code",
   "execution_count": 101,
   "metadata": {},
   "outputs": [
    {
     "data": {
      "text/html": [
       "<div>\n",
       "<style scoped>\n",
       "    .dataframe tbody tr th:only-of-type {\n",
       "        vertical-align: middle;\n",
       "    }\n",
       "\n",
       "    .dataframe tbody tr th {\n",
       "        vertical-align: top;\n",
       "    }\n",
       "\n",
       "    .dataframe thead th {\n",
       "        text-align: right;\n",
       "    }\n",
       "</style>\n",
       "<table border=\"1\" class=\"dataframe\">\n",
       "  <thead>\n",
       "    <tr style=\"text-align: right;\">\n",
       "      <th></th>\n",
       "      <th>commentID</th>\n",
       "      <th>text</th>\n",
       "      <th>publishedAt</th>\n",
       "      <th>authorID</th>\n",
       "      <th>likeCount</th>\n",
       "      <th>totalReplyCount</th>\n",
       "      <th>parentID</th>\n",
       "      <th>videoID</th>\n",
       "      <th>channelId</th>\n",
       "      <th>username</th>\n",
       "      <th>...</th>\n",
       "      <th>severe_toxicity</th>\n",
       "      <th>sentiment</th>\n",
       "      <th>prob_pos</th>\n",
       "      <th>prob_neg</th>\n",
       "      <th>prob_neu</th>\n",
       "      <th>clean_tokens</th>\n",
       "      <th>clean_text</th>\n",
       "      <th>channelName</th>\n",
       "      <th>repliedID</th>\n",
       "      <th>repliedName</th>\n",
       "    </tr>\n",
       "  </thead>\n",
       "  <tbody>\n",
       "    <tr>\n",
       "      <th>0</th>\n",
       "      <td>UgzNbjRq-bmbAkT8AKd4AaABAg</td>\n",
       "      <td>Die Kraftwerke weiterlaufen zu lassen ist nich...</td>\n",
       "      <td>2023-05-11T19:37:05Z</td>\n",
       "      <td>UCffvix1CZh19OHEKNd5HlaQ</td>\n",
       "      <td>0</td>\n",
       "      <td>0</td>\n",
       "      <td>0</td>\n",
       "      <td>RHsMs6KDgJI</td>\n",
       "      <td>UCcoQ3WG2J_Xjwwyt-sJqh-w</td>\n",
       "      <td>Dana Schlegel</td>\n",
       "      <td>...</td>\n",
       "      <td>0.040523</td>\n",
       "      <td>neutral</td>\n",
       "      <td>0.000541</td>\n",
       "      <td>0.001773</td>\n",
       "      <td>0.997686</td>\n",
       "      <td>['kraftwerke', 'weiterlaufen', 'lassen', 'prof...</td>\n",
       "      <td>kraftwerke weiterlaufen lassen profit wichtige...</td>\n",
       "      <td>Achtung, Reichelt!</td>\n",
       "      <td>0</td>\n",
       "      <td>NaN</td>\n",
       "    </tr>\n",
       "    <tr>\n",
       "      <th>1</th>\n",
       "      <td>UgzLliIQM1p-mszsMJJ4AaABAg</td>\n",
       "      <td>Bitte alle kompetenten Fachleute in die Politi...</td>\n",
       "      <td>2023-03-11T11:12:50Z</td>\n",
       "      <td>UCO7NBsrEO1VlEgpjsqlODKg</td>\n",
       "      <td>0</td>\n",
       "      <td>0</td>\n",
       "      <td>0</td>\n",
       "      <td>RHsMs6KDgJI</td>\n",
       "      <td>UCcoQ3WG2J_Xjwwyt-sJqh-w</td>\n",
       "      <td>Marti</td>\n",
       "      <td>...</td>\n",
       "      <td>0.289474</td>\n",
       "      <td>neutral</td>\n",
       "      <td>0.017348</td>\n",
       "      <td>0.045093</td>\n",
       "      <td>0.937559</td>\n",
       "      <td>['kompetenten', 'fachleute', 'politik', 'clouw...</td>\n",
       "      <td>kompetenten fachleute politik clouwns rauswerfen</td>\n",
       "      <td>Achtung, Reichelt!</td>\n",
       "      <td>0</td>\n",
       "      <td>NaN</td>\n",
       "    </tr>\n",
       "    <tr>\n",
       "      <th>2</th>\n",
       "      <td>UgyQnUE08i_MhHHR-5R4AaABAg</td>\n",
       "      <td>Ich stimme grundsätzlich zu! Die Politik könnt...</td>\n",
       "      <td>2023-02-28T12:59:18Z</td>\n",
       "      <td>UCJ_FNG2X8he2dDal7Co689A</td>\n",
       "      <td>0</td>\n",
       "      <td>0</td>\n",
       "      <td>0</td>\n",
       "      <td>RHsMs6KDgJI</td>\n",
       "      <td>UCcoQ3WG2J_Xjwwyt-sJqh-w</td>\n",
       "      <td>Thomas Bracht</td>\n",
       "      <td>...</td>\n",
       "      <td>0.040523</td>\n",
       "      <td>negative</td>\n",
       "      <td>0.043993</td>\n",
       "      <td>0.918005</td>\n",
       "      <td>0.038001</td>\n",
       "      <td>['stimme', 'grundsätzlich', 'politik', 'preise...</td>\n",
       "      <td>stimme grundsätzlich politik preise senken exp...</td>\n",
       "      <td>Achtung, Reichelt!</td>\n",
       "      <td>0</td>\n",
       "      <td>NaN</td>\n",
       "    </tr>\n",
       "    <tr>\n",
       "      <th>3</th>\n",
       "      <td>UgzmCbLPz_GiXJicg0l4AaABAg</td>\n",
       "      <td>Zitat Dieter Nuhr: die Grünen sind dabei Deuts...</td>\n",
       "      <td>2023-02-21T10:23:51Z</td>\n",
       "      <td>UCnv0JgIk9UAYsvktFdSUsiA</td>\n",
       "      <td>0</td>\n",
       "      <td>0</td>\n",
       "      <td>0</td>\n",
       "      <td>RHsMs6KDgJI</td>\n",
       "      <td>UCcoQ3WG2J_Xjwwyt-sJqh-w</td>\n",
       "      <td>Gixxer NRW Germany</td>\n",
       "      <td>...</td>\n",
       "      <td>0.273536</td>\n",
       "      <td>neutral</td>\n",
       "      <td>0.000006</td>\n",
       "      <td>0.000012</td>\n",
       "      <td>0.999982</td>\n",
       "      <td>['zitat', 'dieter', 'nuhr', 'grünen', 'deutsch...</td>\n",
       "      <td>zitat dieter nuhr grünen deutschland sumpfbiot...</td>\n",
       "      <td>Achtung, Reichelt!</td>\n",
       "      <td>0</td>\n",
       "      <td>NaN</td>\n",
       "    </tr>\n",
       "    <tr>\n",
       "      <th>4</th>\n",
       "      <td>UgzqdmnqOOpQkXzJ0uB4AaABAg</td>\n",
       "      <td>Angebot und Nachfrage. Ein wirtschaftlicher Gr...</td>\n",
       "      <td>2022-12-30T16:21:33Z</td>\n",
       "      <td>UCYs8otO1f01y2_Fif5_Y5PQ</td>\n",
       "      <td>0</td>\n",
       "      <td>0</td>\n",
       "      <td>0</td>\n",
       "      <td>RHsMs6KDgJI</td>\n",
       "      <td>UCcoQ3WG2J_Xjwwyt-sJqh-w</td>\n",
       "      <td>Lisanne Benz</td>\n",
       "      <td>...</td>\n",
       "      <td>0.697059</td>\n",
       "      <td>negative</td>\n",
       "      <td>0.026479</td>\n",
       "      <td>0.938758</td>\n",
       "      <td>0.034763</td>\n",
       "      <td>['angebot', 'nachfrage', 'wirtschaftlicher', '...</td>\n",
       "      <td>angebot nachfrage wirtschaftlicher grundsatz g...</td>\n",
       "      <td>Achtung, Reichelt!</td>\n",
       "      <td>0</td>\n",
       "      <td>NaN</td>\n",
       "    </tr>\n",
       "    <tr>\n",
       "      <th>...</th>\n",
       "      <td>...</td>\n",
       "      <td>...</td>\n",
       "      <td>...</td>\n",
       "      <td>...</td>\n",
       "      <td>...</td>\n",
       "      <td>...</td>\n",
       "      <td>...</td>\n",
       "      <td>...</td>\n",
       "      <td>...</td>\n",
       "      <td>...</td>\n",
       "      <td>...</td>\n",
       "      <td>...</td>\n",
       "      <td>...</td>\n",
       "      <td>...</td>\n",
       "      <td>...</td>\n",
       "      <td>...</td>\n",
       "      <td>...</td>\n",
       "      <td>...</td>\n",
       "      <td>...</td>\n",
       "      <td>...</td>\n",
       "      <td>...</td>\n",
       "    </tr>\n",
       "    <tr>\n",
       "      <th>154117</th>\n",
       "      <td>Ugz0fKlnfE2gNldEnUd4AaABAg</td>\n",
       "      <td>Taliban sind Mittelalter pur.</td>\n",
       "      <td>2022-09-11T12:09:32Z</td>\n",
       "      <td>UCc1RfiEit4D6TEzgFRejhUA</td>\n",
       "      <td>4</td>\n",
       "      <td>2</td>\n",
       "      <td>0</td>\n",
       "      <td>RCt4BOfwKUI</td>\n",
       "      <td>UCMIgOXM2JEQ2Pv2d0_PVfcg</td>\n",
       "      <td>Big W</td>\n",
       "      <td>...</td>\n",
       "      <td>0.408821</td>\n",
       "      <td>neutral</td>\n",
       "      <td>0.000311</td>\n",
       "      <td>0.000893</td>\n",
       "      <td>0.998796</td>\n",
       "      <td>['taliban', 'mittelalter', 'pur']</td>\n",
       "      <td>taliban mittelalter pur</td>\n",
       "      <td>DW Deutsch</td>\n",
       "      <td>0</td>\n",
       "      <td>NaN</td>\n",
       "    </tr>\n",
       "    <tr>\n",
       "      <th>154118</th>\n",
       "      <td>Ugz0fKlnfE2gNldEnUd4AaABAg.9fpvelNUVXu9fsvFZVYLBn</td>\n",
       "      <td>Taliban:innen.</td>\n",
       "      <td>2022-09-12T16:03:40Z</td>\n",
       "      <td>UCiYA7Xu1SsOjwKdxeCvSmWg</td>\n",
       "      <td>0</td>\n",
       "      <td>0</td>\n",
       "      <td>Ugz0fKlnfE2gNldEnUd4AaABAg</td>\n",
       "      <td>RCt4BOfwKUI</td>\n",
       "      <td>UCMIgOXM2JEQ2Pv2d0_PVfcg</td>\n",
       "      <td>Felix L.</td>\n",
       "      <td>...</td>\n",
       "      <td>0.176923</td>\n",
       "      <td>positive</td>\n",
       "      <td>0.650865</td>\n",
       "      <td>0.337321</td>\n",
       "      <td>0.011813</td>\n",
       "      <td>['taliban', 'innen']</td>\n",
       "      <td>taliban innen</td>\n",
       "      <td>DW Deutsch</td>\n",
       "      <td>0</td>\n",
       "      <td>NaN</td>\n",
       "    </tr>\n",
       "    <tr>\n",
       "      <th>154119</th>\n",
       "      <td>Ugz0fKlnfE2gNldEnUd4AaABAg.9fpvelNUVXu9fqWTGHdSQ7</td>\n",
       "      <td>he, nicht das mittelalter verunglimpfen. das w...</td>\n",
       "      <td>2022-09-11T17:39:52Z</td>\n",
       "      <td>UCSWwSWLyCpg_wqsC09117vA</td>\n",
       "      <td>0</td>\n",
       "      <td>0</td>\n",
       "      <td>Ugz0fKlnfE2gNldEnUd4AaABAg</td>\n",
       "      <td>RCt4BOfwKUI</td>\n",
       "      <td>UCMIgOXM2JEQ2Pv2d0_PVfcg</td>\n",
       "      <td>Bin Guth</td>\n",
       "      <td>...</td>\n",
       "      <td>0.289474</td>\n",
       "      <td>neutral</td>\n",
       "      <td>0.006867</td>\n",
       "      <td>0.026989</td>\n",
       "      <td>0.966144</td>\n",
       "      <td>['he', 'mittelalter', 'verunglimpfen', 'mainst...</td>\n",
       "      <td>he mittelalter verunglimpfen mainstream soupdo...</td>\n",
       "      <td>DW Deutsch</td>\n",
       "      <td>0</td>\n",
       "      <td>NaN</td>\n",
       "    </tr>\n",
       "    <tr>\n",
       "      <th>154120</th>\n",
       "      <td>UgxtNtyl8kZTJ8o7qTl4AaABAg</td>\n",
       "      <td>Viele Paschtus unterstützen Taliban, weil die ...</td>\n",
       "      <td>2022-09-11T11:54:21Z</td>\n",
       "      <td>UCyH8FbmfGsdZAy_44bgXaMg</td>\n",
       "      <td>0</td>\n",
       "      <td>0</td>\n",
       "      <td>0</td>\n",
       "      <td>RCt4BOfwKUI</td>\n",
       "      <td>UCMIgOXM2JEQ2Pv2d0_PVfcg</td>\n",
       "      <td>S</td>\n",
       "      <td>...</td>\n",
       "      <td>0.040523</td>\n",
       "      <td>neutral</td>\n",
       "      <td>0.027562</td>\n",
       "      <td>0.294426</td>\n",
       "      <td>0.678012</td>\n",
       "      <td>['paschtus', 'unterstützen', 'taliban', 'pasch...</td>\n",
       "      <td>paschtus unterstützen taliban paschtus tadschi...</td>\n",
       "      <td>DW Deutsch</td>\n",
       "      <td>0</td>\n",
       "      <td>NaN</td>\n",
       "    </tr>\n",
       "    <tr>\n",
       "      <th>154121</th>\n",
       "      <td>UgzK_YZSEyhM6kPV5mB4AaABAg</td>\n",
       "      <td>Tja hätten die besser mal kämpfen sollen für i...</td>\n",
       "      <td>2022-09-11T11:52:00Z</td>\n",
       "      <td>UCsXp7UQoEOOR5jdpvLWw8xA</td>\n",
       "      <td>47</td>\n",
       "      <td>30</td>\n",
       "      <td>0</td>\n",
       "      <td>RCt4BOfwKUI</td>\n",
       "      <td>UCMIgOXM2JEQ2Pv2d0_PVfcg</td>\n",
       "      <td>Andy Atty</td>\n",
       "      <td>...</td>\n",
       "      <td>0.289474</td>\n",
       "      <td>negative</td>\n",
       "      <td>0.008759</td>\n",
       "      <td>0.979789</td>\n",
       "      <td>0.011452</td>\n",
       "      <td>['tja', 'kämpfen', 'freiheit', 'ukrainer', 'mi...</td>\n",
       "      <td>tja kämpfen freiheit ukrainer mitleid hält sta...</td>\n",
       "      <td>DW Deutsch</td>\n",
       "      <td>0</td>\n",
       "      <td>NaN</td>\n",
       "    </tr>\n",
       "  </tbody>\n",
       "</table>\n",
       "<p>154122 rows × 24 columns</p>\n",
       "</div>"
      ],
      "text/plain": [
       "                                                commentID   \n",
       "0                              UgzNbjRq-bmbAkT8AKd4AaABAg  \\\n",
       "1                              UgzLliIQM1p-mszsMJJ4AaABAg   \n",
       "2                              UgyQnUE08i_MhHHR-5R4AaABAg   \n",
       "3                              UgzmCbLPz_GiXJicg0l4AaABAg   \n",
       "4                              UgzqdmnqOOpQkXzJ0uB4AaABAg   \n",
       "...                                                   ...   \n",
       "154117                         Ugz0fKlnfE2gNldEnUd4AaABAg   \n",
       "154118  Ugz0fKlnfE2gNldEnUd4AaABAg.9fpvelNUVXu9fsvFZVYLBn   \n",
       "154119  Ugz0fKlnfE2gNldEnUd4AaABAg.9fpvelNUVXu9fqWTGHdSQ7   \n",
       "154120                         UgxtNtyl8kZTJ8o7qTl4AaABAg   \n",
       "154121                         UgzK_YZSEyhM6kPV5mB4AaABAg   \n",
       "\n",
       "                                                     text   \n",
       "0       Die Kraftwerke weiterlaufen zu lassen ist nich...  \\\n",
       "1       Bitte alle kompetenten Fachleute in die Politi...   \n",
       "2       Ich stimme grundsätzlich zu! Die Politik könnt...   \n",
       "3       Zitat Dieter Nuhr: die Grünen sind dabei Deuts...   \n",
       "4       Angebot und Nachfrage. Ein wirtschaftlicher Gr...   \n",
       "...                                                   ...   \n",
       "154117                      Taliban sind Mittelalter pur.   \n",
       "154118                                     Taliban:innen.   \n",
       "154119  he, nicht das mittelalter verunglimpfen. das w...   \n",
       "154120  Viele Paschtus unterstützen Taliban, weil die ...   \n",
       "154121  Tja hätten die besser mal kämpfen sollen für i...   \n",
       "\n",
       "                 publishedAt                  authorID  likeCount   \n",
       "0       2023-05-11T19:37:05Z  UCffvix1CZh19OHEKNd5HlaQ          0  \\\n",
       "1       2023-03-11T11:12:50Z  UCO7NBsrEO1VlEgpjsqlODKg          0   \n",
       "2       2023-02-28T12:59:18Z  UCJ_FNG2X8he2dDal7Co689A          0   \n",
       "3       2023-02-21T10:23:51Z  UCnv0JgIk9UAYsvktFdSUsiA          0   \n",
       "4       2022-12-30T16:21:33Z  UCYs8otO1f01y2_Fif5_Y5PQ          0   \n",
       "...                      ...                       ...        ...   \n",
       "154117  2022-09-11T12:09:32Z  UCc1RfiEit4D6TEzgFRejhUA          4   \n",
       "154118  2022-09-12T16:03:40Z  UCiYA7Xu1SsOjwKdxeCvSmWg          0   \n",
       "154119  2022-09-11T17:39:52Z  UCSWwSWLyCpg_wqsC09117vA          0   \n",
       "154120  2022-09-11T11:54:21Z  UCyH8FbmfGsdZAy_44bgXaMg          0   \n",
       "154121  2022-09-11T11:52:00Z  UCsXp7UQoEOOR5jdpvLWw8xA         47   \n",
       "\n",
       "        totalReplyCount                    parentID      videoID   \n",
       "0                     0                           0  RHsMs6KDgJI  \\\n",
       "1                     0                           0  RHsMs6KDgJI   \n",
       "2                     0                           0  RHsMs6KDgJI   \n",
       "3                     0                           0  RHsMs6KDgJI   \n",
       "4                     0                           0  RHsMs6KDgJI   \n",
       "...                 ...                         ...          ...   \n",
       "154117                2                           0  RCt4BOfwKUI   \n",
       "154118                0  Ugz0fKlnfE2gNldEnUd4AaABAg  RCt4BOfwKUI   \n",
       "154119                0  Ugz0fKlnfE2gNldEnUd4AaABAg  RCt4BOfwKUI   \n",
       "154120                0                           0  RCt4BOfwKUI   \n",
       "154121               30                           0  RCt4BOfwKUI   \n",
       "\n",
       "                       channelId            username  ...  severe_toxicity   \n",
       "0       UCcoQ3WG2J_Xjwwyt-sJqh-w       Dana Schlegel  ...         0.040523  \\\n",
       "1       UCcoQ3WG2J_Xjwwyt-sJqh-w               Marti  ...         0.289474   \n",
       "2       UCcoQ3WG2J_Xjwwyt-sJqh-w       Thomas Bracht  ...         0.040523   \n",
       "3       UCcoQ3WG2J_Xjwwyt-sJqh-w  Gixxer NRW Germany  ...         0.273536   \n",
       "4       UCcoQ3WG2J_Xjwwyt-sJqh-w        Lisanne Benz  ...         0.697059   \n",
       "...                          ...                 ...  ...              ...   \n",
       "154117  UCMIgOXM2JEQ2Pv2d0_PVfcg               Big W  ...         0.408821   \n",
       "154118  UCMIgOXM2JEQ2Pv2d0_PVfcg            Felix L.  ...         0.176923   \n",
       "154119  UCMIgOXM2JEQ2Pv2d0_PVfcg            Bin Guth  ...         0.289474   \n",
       "154120  UCMIgOXM2JEQ2Pv2d0_PVfcg                   S  ...         0.040523   \n",
       "154121  UCMIgOXM2JEQ2Pv2d0_PVfcg           Andy Atty  ...         0.289474   \n",
       "\n",
       "        sentiment  prob_pos  prob_neg  prob_neu   \n",
       "0         neutral  0.000541  0.001773  0.997686  \\\n",
       "1         neutral  0.017348  0.045093  0.937559   \n",
       "2        negative  0.043993  0.918005  0.038001   \n",
       "3         neutral  0.000006  0.000012  0.999982   \n",
       "4        negative  0.026479  0.938758  0.034763   \n",
       "...           ...       ...       ...       ...   \n",
       "154117    neutral  0.000311  0.000893  0.998796   \n",
       "154118   positive  0.650865  0.337321  0.011813   \n",
       "154119    neutral  0.006867  0.026989  0.966144   \n",
       "154120    neutral  0.027562  0.294426  0.678012   \n",
       "154121   negative  0.008759  0.979789  0.011452   \n",
       "\n",
       "                                             clean_tokens   \n",
       "0       ['kraftwerke', 'weiterlaufen', 'lassen', 'prof...  \\\n",
       "1       ['kompetenten', 'fachleute', 'politik', 'clouw...   \n",
       "2       ['stimme', 'grundsätzlich', 'politik', 'preise...   \n",
       "3       ['zitat', 'dieter', 'nuhr', 'grünen', 'deutsch...   \n",
       "4       ['angebot', 'nachfrage', 'wirtschaftlicher', '...   \n",
       "...                                                   ...   \n",
       "154117                  ['taliban', 'mittelalter', 'pur']   \n",
       "154118                               ['taliban', 'innen']   \n",
       "154119  ['he', 'mittelalter', 'verunglimpfen', 'mainst...   \n",
       "154120  ['paschtus', 'unterstützen', 'taliban', 'pasch...   \n",
       "154121  ['tja', 'kämpfen', 'freiheit', 'ukrainer', 'mi...   \n",
       "\n",
       "                                               clean_text         channelName   \n",
       "0       kraftwerke weiterlaufen lassen profit wichtige...  Achtung, Reichelt!  \\\n",
       "1        kompetenten fachleute politik clouwns rauswerfen  Achtung, Reichelt!   \n",
       "2       stimme grundsätzlich politik preise senken exp...  Achtung, Reichelt!   \n",
       "3       zitat dieter nuhr grünen deutschland sumpfbiot...  Achtung, Reichelt!   \n",
       "4       angebot nachfrage wirtschaftlicher grundsatz g...  Achtung, Reichelt!   \n",
       "...                                                   ...                 ...   \n",
       "154117                            taliban mittelalter pur          DW Deutsch   \n",
       "154118                                      taliban innen          DW Deutsch   \n",
       "154119  he mittelalter verunglimpfen mainstream soupdo...          DW Deutsch   \n",
       "154120  paschtus unterstützen taliban paschtus tadschi...          DW Deutsch   \n",
       "154121  tja kämpfen freiheit ukrainer mitleid hält sta...          DW Deutsch   \n",
       "\n",
       "        repliedID repliedName  \n",
       "0               0         NaN  \n",
       "1               0         NaN  \n",
       "2               0         NaN  \n",
       "3               0         NaN  \n",
       "4               0         NaN  \n",
       "...           ...         ...  \n",
       "154117          0         NaN  \n",
       "154118          0         NaN  \n",
       "154119          0         NaN  \n",
       "154120          0         NaN  \n",
       "154121          0         NaN  \n",
       "\n",
       "[154122 rows x 24 columns]"
      ]
     },
     "execution_count": 101,
     "metadata": {},
     "output_type": "execute_result"
    }
   ],
   "source": [
    "data"
   ]
  },
  {
   "cell_type": "code",
   "execution_count": 12,
   "metadata": {},
   "outputs": [
    {
     "name": "stdout",
     "output_type": "stream",
     "text": [
      "count    149170.000000\n",
      "mean          0.426346\n",
      "std           3.165500\n",
      "min           0.000000\n",
      "25%           0.000000\n",
      "50%           0.000000\n",
      "75%           0.000000\n",
      "max         260.000000\n",
      "Name: totalReplyCount, dtype: float64\n",
      "-----\n",
      "count    149170.000000\n",
      "mean          7.967353\n",
      "std          60.456186\n",
      "min           0.000000\n",
      "25%           0.000000\n",
      "50%           0.000000\n",
      "75%           2.000000\n",
      "max        3378.000000\n",
      "Name: likeCount, dtype: float64\n"
     ]
    }
   ],
   "source": [
    "print(data['totalReplyCount'].describe())\n",
    "print(\"-----\")\n",
    "print(data['likeCount'].describe())"
   ]
  },
  {
   "cell_type": "code",
   "execution_count": 75,
   "metadata": {},
   "outputs": [
    {
     "name": "stdout",
     "output_type": "stream",
     "text": [
      "        totalReplyCount  likeCount\n",
      "0              0.000000   0.000000\n",
      "1              0.000000   0.000000\n",
      "2              0.000000   0.000000\n",
      "3              0.000000   0.000000\n",
      "4              0.000000   0.000000\n",
      "...                 ...        ...\n",
      "154117         0.007692   0.001184\n",
      "154118         0.000000   0.000000\n",
      "154119         0.000000   0.000000\n",
      "154120         0.000000   0.000000\n",
      "154121         0.115385   0.013914\n",
      "\n",
      "[154122 rows x 2 columns]\n"
     ]
    }
   ],
   "source": [
    "# normalize variables\n",
    "from sklearn.preprocessing import MinMaxScaler\n",
    "\n",
    "scaler = MinMaxScaler()\n",
    "\n",
    "variables_to_normalize = ['totalReplyCount', 'likeCount']\n",
    "\n",
    "# Fit and transform the selected variables\n",
    "normalized_data = scaler.fit_transform(data[variables_to_normalize])\n",
    "\n",
    "# Convert the normalized data back to a DataFrame\n",
    "normalized_df = pd.DataFrame(normalized_data, columns=variables_to_normalize)\n",
    "\n",
    "print(normalized_df)\n"
   ]
  },
  {
   "cell_type": "code",
   "execution_count": 76,
   "metadata": {},
   "outputs": [
    {
     "name": "stdout",
     "output_type": "stream",
     "text": [
      "count    154122.000000\n",
      "mean          0.001822\n",
      "std           0.012870\n",
      "min           0.000000\n",
      "25%           0.000000\n",
      "50%           0.000000\n",
      "75%           0.000000\n",
      "max           1.000000\n",
      "Name: totalReplyCount, dtype: float64\n",
      "-----\n",
      "count    154122.000000\n",
      "mean          0.002298\n",
      "std           0.017599\n",
      "min           0.000000\n",
      "25%           0.000000\n",
      "50%           0.000000\n",
      "75%           0.000296\n",
      "max           1.000000\n",
      "Name: likeCount, dtype: float64\n"
     ]
    }
   ],
   "source": [
    "print(normalized_df['totalReplyCount'].describe())\n",
    "print(\"-----\")\n",
    "print(normalized_df['likeCount'].describe())"
   ]
  },
  {
   "cell_type": "code",
   "execution_count": 77,
   "metadata": {},
   "outputs": [],
   "source": [
    "# calculate index for independent variable \"extensive discussion\"\n",
    "extensive_discussion1 = (normalized_df['totalReplyCount'] + normalized_df['likeCount'])/2\n",
    "\n",
    "# raw reply count as independent variable\n",
    "extensive_discussion2 = normalized_df['totalReplyCount']"
   ]
  },
  {
   "cell_type": "code",
   "execution_count": 78,
   "metadata": {},
   "outputs": [],
   "source": [
    "# define variables\n",
    "X = data[['identity_attack']]\n",
    "y = extensive_discussion1"
   ]
  },
  {
   "cell_type": "code",
   "execution_count": 79,
   "metadata": {},
   "outputs": [
    {
     "name": "stdout",
     "output_type": "stream",
     "text": [
      "identity_attack    1\n",
      "dtype: int64\n"
     ]
    }
   ],
   "source": [
    "# check for missing values\n",
    "missing_values = X.isnull().sum()\n",
    "print(missing_values)\n",
    "\n",
    "# replace NA with mean\n",
    "imputer = SimpleImputer(strategy='mean')\n",
    "X = imputer.fit_transform(X)"
   ]
  },
  {
   "cell_type": "code",
   "execution_count": 100,
   "metadata": {},
   "outputs": [
    {
     "name": "stdout",
     "output_type": "stream",
     "text": [
      "\\begin{center}\n",
      "\\begin{tabular}{lclc}\n",
      "\\toprule\n",
      "\\textbf{Dep. Variable:}    &        y         & \\textbf{  R-squared (uncentered):}      &       0.009     \\\\\n",
      "\\textbf{Model:}            &       OLS        & \\textbf{  Adj. R-squared (uncentered):} &       0.009     \\\\\n",
      "\\textbf{Method:}           &  Least Squares   & \\textbf{  F-statistic:       }          &       1379.     \\\\\n",
      "\\textbf{Date:}             & Tue, 22 Aug 2023 & \\textbf{  Prob (F-statistic):}          &   1.93e-300     \\\\\n",
      "\\textbf{Time:}             &     12:01:24     & \\textbf{  Log-Likelihood:    }          &   4.3687e+05    \\\\\n",
      "\\textbf{No. Observations:} &      154122      & \\textbf{  AIC:               }          &   -8.737e+05    \\\\\n",
      "\\textbf{Df Residuals:}     &      154121      & \\textbf{  BIC:               }          &   -8.737e+05    \\\\\n",
      "\\textbf{Df Model:}         &           1      & \\textbf{                     }          &                 \\\\\n",
      "\\textbf{Covariance Type:}  &    nonrobust     & \\textbf{                     }          &                 \\\\\n",
      "\\bottomrule\n",
      "\\end{tabular}\n",
      "\\begin{tabular}{lcccccc}\n",
      "            & \\textbf{coef} & \\textbf{std err} & \\textbf{t} & \\textbf{P$> |$t$|$} & \\textbf{[0.025} & \\textbf{0.975]}  \\\\\n",
      "\\midrule\n",
      "\\textbf{x1} &       0.0029  &     7.82e-05     &    37.131  &         0.000        &        0.003    &        0.003     \\\\\n",
      "\\bottomrule\n",
      "\\end{tabular}\n",
      "\\begin{tabular}{lclc}\n",
      "\\textbf{Omnibus:}       & 348587.989 & \\textbf{  Durbin-Watson:     } &       1.902     \\\\\n",
      "\\textbf{Prob(Omnibus):} &    0.000   & \\textbf{  Jarque-Bera (JB):  } & 3461692739.185  \\\\\n",
      "\\textbf{Skew:}          &   21.525   & \\textbf{  Prob(JB):          } &        0.00     \\\\\n",
      "\\textbf{Kurtosis:}      &  735.942   & \\textbf{  Cond. No.          } &        1.00     \\\\\n",
      "\\bottomrule\n",
      "\\end{tabular}\n",
      "%\\caption{OLS Regression Results}\n",
      "\\end{center}\n",
      "\n",
      "Notes: \\newline\n",
      " [1] R² is computed without centering (uncentered) since the model does not contain a constant. \\newline\n",
      " [2] Standard Errors assume that the covariance matrix of the errors is correctly specified.\n"
     ]
    },
    {
     "ename": "AttributeError",
     "evalue": "'DataFrame' object has no attribute 'append'",
     "output_type": "error",
     "traceback": [
      "\u001b[1;31m---------------------------------------------------------------------------\u001b[0m",
      "\u001b[1;31mAttributeError\u001b[0m                            Traceback (most recent call last)",
      "Cell \u001b[1;32mIn[100], line 5\u001b[0m\n\u001b[0;32m      2\u001b[0m result_linear \u001b[39m=\u001b[39m model\u001b[39m.\u001b[39mfit()\n\u001b[0;32m      3\u001b[0m \u001b[39mprint\u001b[39m(result_linear\u001b[39m.\u001b[39msummary()\u001b[39m.\u001b[39mas_latex())\n\u001b[1;32m----> 5\u001b[0m pystout(models\u001b[39m=\u001b[39;49m[result_linear],\n\u001b[0;32m      6\u001b[0m         file\u001b[39m=\u001b[39;49m\u001b[39m'\u001b[39;49m\u001b[39mResult_LinReg.tex\u001b[39;49m\u001b[39m'\u001b[39;49m,\n\u001b[0;32m      7\u001b[0m         \u001b[39m# addnotes=['Note above','Note below'],\u001b[39;49;00m\n\u001b[0;32m      8\u001b[0m         digits\u001b[39m=\u001b[39;49m\u001b[39m2\u001b[39;49m,\n\u001b[0;32m      9\u001b[0m         endog_names\u001b[39m=\u001b[39;49m[\u001b[39m'\u001b[39;49m\u001b[39midentity_attack\u001b[39;49m\u001b[39m'\u001b[39;49m],\n\u001b[0;32m     10\u001b[0m         varlabels\u001b[39m=\u001b[39;49m{\u001b[39m'\u001b[39;49m\u001b[39mconst\u001b[39;49m\u001b[39m'\u001b[39;49m:\u001b[39m'\u001b[39;49m\u001b[39mConstant\u001b[39;49m\u001b[39m'\u001b[39;49m,\n\u001b[0;32m     11\u001b[0m                    \u001b[39m'\u001b[39;49m\u001b[39mdisplacement\u001b[39;49m\u001b[39m'\u001b[39;49m:\u001b[39m'\u001b[39;49m\u001b[39mDisp\u001b[39;49m\u001b[39m'\u001b[39;49m,\u001b[39m'\u001b[39;49m\u001b[39mmpg\u001b[39;49m\u001b[39m'\u001b[39;49m:\u001b[39m'\u001b[39;49m\u001b[39mMPG\u001b[39;49m\u001b[39m'\u001b[39;49m},\n\u001b[0;32m     12\u001b[0m         \u001b[39m#mgroups={'First Group':[1,2],'Second Group':3},\u001b[39;49;00m\n\u001b[0;32m     13\u001b[0m         modstat\u001b[39m=\u001b[39;49m{\u001b[39m'\u001b[39;49m\u001b[39mnobs\u001b[39;49m\u001b[39m'\u001b[39;49m:\u001b[39m'\u001b[39;49m\u001b[39mObs\u001b[39;49m\u001b[39m'\u001b[39;49m,\u001b[39m'\u001b[39;49m\u001b[39mrsquared_adj\u001b[39;49m\u001b[39m'\u001b[39;49m:\u001b[39m'\u001b[39;49m\u001b[39mAdj. R\u001b[39;49m\u001b[39m\\\u001b[39;49m\u001b[39msym\u001b[39;49m\u001b[39m{2}\u001b[39;49;00m\u001b[39m'\u001b[39;49m,\u001b[39m'\u001b[39;49m\u001b[39mfvalue\u001b[39;49m\u001b[39m'\u001b[39;49m:\u001b[39m'\u001b[39;49m\u001b[39mF-stat\u001b[39;49m\u001b[39m'\u001b[39;49m}\n\u001b[0;32m     14\u001b[0m         )\n",
      "File \u001b[1;32m~\\AppData\\Local\\Packages\\PythonSoftwareFoundation.Python.3.11_qbz5n2kfra8p0\\LocalCache\\local-packages\\Python311\\site-packages\\pystout\\pystout.py:377\u001b[0m, in \u001b[0;36mpystout\u001b[1;34m(models, file, exogvars, endog_names, stars, varlabels, digits, scientific_notation, mgroups, addnotes, addrows, title, label, tableopts, modstat, footnotesize)\u001b[0m\n\u001b[0;32m    375\u001b[0m         \u001b[39mfor\u001b[39;00m m \u001b[39min\u001b[39;00m models:\n\u001b[0;32m    376\u001b[0m             r\u001b[39m.\u001b[39mappend(trygetstat(key,m))\n\u001b[1;32m--> 377\u001b[0m         options \u001b[39m=\u001b[39m options\u001b[39m.\u001b[39;49mappend(pd\u001b[39m.\u001b[39mDataFrame([r],index\u001b[39m=\u001b[39m[value]))\n\u001b[0;32m    378\u001b[0m \u001b[39melse\u001b[39;00m:\n\u001b[0;32m    379\u001b[0m     options \u001b[39m=\u001b[39m pd\u001b[39m.\u001b[39mDataFrame()\n",
      "File \u001b[1;32m~\\AppData\\Local\\Packages\\PythonSoftwareFoundation.Python.3.11_qbz5n2kfra8p0\\LocalCache\\local-packages\\Python311\\site-packages\\pandas\\core\\generic.py:5989\u001b[0m, in \u001b[0;36mNDFrame.__getattr__\u001b[1;34m(self, name)\u001b[0m\n\u001b[0;32m   5982\u001b[0m \u001b[39mif\u001b[39;00m (\n\u001b[0;32m   5983\u001b[0m     name \u001b[39mnot\u001b[39;00m \u001b[39min\u001b[39;00m \u001b[39mself\u001b[39m\u001b[39m.\u001b[39m_internal_names_set\n\u001b[0;32m   5984\u001b[0m     \u001b[39mand\u001b[39;00m name \u001b[39mnot\u001b[39;00m \u001b[39min\u001b[39;00m \u001b[39mself\u001b[39m\u001b[39m.\u001b[39m_metadata\n\u001b[0;32m   5985\u001b[0m     \u001b[39mand\u001b[39;00m name \u001b[39mnot\u001b[39;00m \u001b[39min\u001b[39;00m \u001b[39mself\u001b[39m\u001b[39m.\u001b[39m_accessors\n\u001b[0;32m   5986\u001b[0m     \u001b[39mand\u001b[39;00m \u001b[39mself\u001b[39m\u001b[39m.\u001b[39m_info_axis\u001b[39m.\u001b[39m_can_hold_identifiers_and_holds_name(name)\n\u001b[0;32m   5987\u001b[0m ):\n\u001b[0;32m   5988\u001b[0m     \u001b[39mreturn\u001b[39;00m \u001b[39mself\u001b[39m[name]\n\u001b[1;32m-> 5989\u001b[0m \u001b[39mreturn\u001b[39;00m \u001b[39mobject\u001b[39;49m\u001b[39m.\u001b[39;49m\u001b[39m__getattribute__\u001b[39;49m(\u001b[39mself\u001b[39;49m, name)\n",
      "\u001b[1;31mAttributeError\u001b[0m: 'DataFrame' object has no attribute 'append'"
     ]
    }
   ],
   "source": [
    "model = sm.OLS(y, X)\n",
    "result_linear = model.fit()\n",
    "print(result_linear.summary().as_latex())"
   ]
  },
  {
   "cell_type": "code",
   "execution_count": null,
   "metadata": {},
   "outputs": [],
   "source": [
    "pystout(models=[result_linear],\n",
    "        file='Result_LinReg.tex',\n",
    "        # addnotes=['Note above','Note below'],\n",
    "        digits=2,\n",
    "        endog_names=['identity_attack'],\n",
    "        varlabels={'const':'Constant',\n",
    "                   'displacement':'Disp','mpg':'MPG'},\n",
    "        #mgroups={'First Group':[1,2],'Second Group':3},\n",
    "        modstat={'nobs':'Obs','rsquared_adj':'Adj. R\\sym{2}','fvalue':'F-stat'}\n",
    "        )"
   ]
  },
  {
   "cell_type": "code",
   "execution_count": 84,
   "metadata": {},
   "outputs": [
    {
     "name": "stdout",
     "output_type": "stream",
     "text": [
      "Coefficients:  [-0.00191945]\n",
      "Variance score: 0.0015800302145647649\n"
     ]
    },
    {
     "data": {
      "image/png": "[encoded data removed]",
      "text/plain": [
       "<Figure size 640x480 with 1 Axes>"
      ]
     },
     "metadata": {},
     "output_type": "display_data"
    }
   ],
   "source": [
    "# splitting X and y into training and testing sets\n",
    "X_train, X_test,\\\n",
    "    y_train, y_test = train_test_split(X, y,\n",
    "                                       test_size=0.4,\n",
    "                                       random_state=1)\n",
    " \n",
    "# create linear regression object\n",
    "reg = linear_model.LinearRegression()\n",
    " \n",
    "# train the model using the training sets\n",
    "result = reg.fit(X_train, y_train)\n",
    " \n",
    "# regression coefficients\n",
    "print('Coefficients: ', reg.coef_)\n",
    " \n",
    "# variance score: 1 means perfect prediction\n",
    "print('Variance score: {}'.format(reg.score(X_test, y_test)))\n",
    " \n",
    "# plot for residual error\n",
    " \n",
    "# setting plot style\n",
    "plt.style.use('fivethirtyeight')\n",
    " \n",
    "# plotting residual errors in training data\n",
    "plt.scatter(reg.predict(X_train),\n",
    "            reg.predict(X_train) - y_train,\n",
    "            color=\"green\", s=10,\n",
    "            label='Train data')\n",
    " \n",
    "# plotting residual errors in test data\n",
    "plt.scatter(reg.predict(X_test),\n",
    "            reg.predict(X_test) - y_test,\n",
    "            color=\"blue\", s=10,\n",
    "            label='Test data')\n",
    " \n",
    "# plotting line for zero residual error\n",
    "plt.hlines(y=0, xmin=0, xmax=0.01, linewidth=2)\n",
    "\n",
    "plt.xlim(0, 0.01) \n",
    "plt.ylim(-1, 0.1)\n",
    " \n",
    "# plotting legend\n",
    "plt.legend(loc='upper right')\n",
    " \n",
    "# plot title\n",
    "plt.title(\"Residual errors\")\n",
    " \n",
    "# method call for showing the plot\n",
    "plt.show()"
   ]
  },
  {
   "cell_type": "code",
   "execution_count": 87,
   "metadata": {},
   "outputs": [
    {
     "data": {
      "text/html": [
       "<table class=\"simpletable\">\n",
       "<caption>OLS Regression Results</caption>\n",
       "<tr>\n",
       "  <th>Dep. Variable:</th>            <td>y</td>        <th>  R-squared (uncentered):</th>       <td>   0.009</td> \n",
       "</tr>\n",
       "<tr>\n",
       "  <th>Model:</th>                   <td>OLS</td>       <th>  Adj. R-squared (uncentered):</th>  <td>   0.009</td> \n",
       "</tr>\n",
       "<tr>\n",
       "  <th>Method:</th>             <td>Least Squares</td>  <th>  F-statistic:       </th>           <td>   1379.</td> \n",
       "</tr>\n",
       "<tr>\n",
       "  <th>Date:</th>             <td>Tue, 22 Aug 2023</td> <th>  Prob (F-statistic):</th>           <td>1.93e-300</td>\n",
       "</tr>\n",
       "<tr>\n",
       "  <th>Time:</th>                 <td>11:12:28</td>     <th>  Log-Likelihood:    </th>          <td>4.3687e+05</td>\n",
       "</tr>\n",
       "<tr>\n",
       "  <th>No. Observations:</th>      <td>154122</td>      <th>  AIC:               </th>          <td>-8.737e+05</td>\n",
       "</tr>\n",
       "<tr>\n",
       "  <th>Df Residuals:</th>          <td>154121</td>      <th>  BIC:               </th>          <td>-8.737e+05</td>\n",
       "</tr>\n",
       "<tr>\n",
       "  <th>Df Model:</th>              <td>     1</td>      <th>                     </th>               <td> </td>    \n",
       "</tr>\n",
       "<tr>\n",
       "  <th>Covariance Type:</th>      <td>nonrobust</td>    <th>                     </th>               <td> </td>    \n",
       "</tr>\n",
       "</table>\n",
       "<table class=\"simpletable\">\n",
       "<tr>\n",
       "   <td></td>     <th>coef</th>     <th>std err</th>      <th>t</th>      <th>P>|t|</th>  <th>[0.025</th>    <th>0.975]</th>  \n",
       "</tr>\n",
       "<tr>\n",
       "  <th>x1</th> <td>    0.0029</td> <td> 7.82e-05</td> <td>   37.131</td> <td> 0.000</td> <td>    0.003</td> <td>    0.003</td>\n",
       "</tr>\n",
       "</table>\n",
       "<table class=\"simpletable\">\n",
       "<tr>\n",
       "  <th>Omnibus:</th>       <td>348587.989</td> <th>  Durbin-Watson:     </th>    <td>   1.902</td>   \n",
       "</tr>\n",
       "<tr>\n",
       "  <th>Prob(Omnibus):</th>   <td> 0.000</td>   <th>  Jarque-Bera (JB):  </th> <td>3461692739.185</td>\n",
       "</tr>\n",
       "<tr>\n",
       "  <th>Skew:</th>            <td>21.525</td>   <th>  Prob(JB):          </th>    <td>    0.00</td>   \n",
       "</tr>\n",
       "<tr>\n",
       "  <th>Kurtosis:</th>        <td>735.942</td>  <th>  Cond. No.          </th>    <td>    1.00</td>   \n",
       "</tr>\n",
       "</table><br/><br/>Notes:<br/>[1] R² is computed without centering (uncentered) since the model does not contain a constant.<br/>[2] Standard Errors assume that the covariance matrix of the errors is correctly specified."
      ],
      "text/plain": [
       "<class 'statsmodels.iolib.summary.Summary'>\n",
       "\"\"\"\n",
       "                                 OLS Regression Results                                \n",
       "=======================================================================================\n",
       "Dep. Variable:                      y   R-squared (uncentered):                   0.009\n",
       "Model:                            OLS   Adj. R-squared (uncentered):              0.009\n",
       "Method:                 Least Squares   F-statistic:                              1379.\n",
       "Date:                Tue, 22 Aug 2023   Prob (F-statistic):                   1.93e-300\n",
       "Time:                        11:12:28   Log-Likelihood:                      4.3687e+05\n",
       "No. Observations:              154122   AIC:                                 -8.737e+05\n",
       "Df Residuals:                  154121   BIC:                                 -8.737e+05\n",
       "Df Model:                           1                                                  \n",
       "Covariance Type:            nonrobust                                                  \n",
       "==============================================================================\n",
       "                 coef    std err          t      P>|t|      [0.025      0.975]\n",
       "------------------------------------------------------------------------------\n",
       "x1             0.0029   7.82e-05     37.131      0.000       0.003       0.003\n",
       "==============================================================================\n",
       "Omnibus:                   348587.989   Durbin-Watson:                   1.902\n",
       "Prob(Omnibus):                  0.000   Jarque-Bera (JB):       3461692739.185\n",
       "Skew:                          21.525   Prob(JB):                         0.00\n",
       "Kurtosis:                     735.942   Cond. No.                         1.00\n",
       "==============================================================================\n",
       "\n",
       "Notes:\n",
       "[1] R² is computed without centering (uncentered) since the model does not contain a constant.\n",
       "[2] Standard Errors assume that the covariance matrix of the errors is correctly specified.\n",
       "\"\"\""
      ]
     },
     "execution_count": 87,
     "metadata": {},
     "output_type": "execute_result"
    }
   ],
   "source": [
    "results.summary()"
   ]
  },
  {
   "cell_type": "markdown",
   "metadata": {},
   "source": [
    "### Check conditions for linear regression"
   ]
  },
  {
   "cell_type": "code",
   "execution_count": 81,
   "metadata": {},
   "outputs": [
    {
     "data": {
      "image/png": "[encoded data removed]",
      "text/plain": [
       "<Figure size 640x480 with 1 Axes>"
      ]
     },
     "metadata": {},
     "output_type": "display_data"
    }
   ],
   "source": [
    "# 1. Linear relationship: not really linear\n",
    "plt.scatter(X, extensive_discussion1, color='blue')\n",
    "plt.xlabel('Identity Attack')\n",
    "plt.ylabel('Extensive Discussion')\n",
    "plt.title('Independent vs. Dependent Variable')\n",
    "plt.show()\n",
    "\n",
    "# 2. Little or no multi-collinearity\n",
    "# 3. Little or no autocorrelation:\n",
    "# 4. Homoscedasticity"
   ]
  },
  {
   "cell_type": "markdown",
   "metadata": {},
   "source": [
    "Diagnostic shows linear regression is not allowed and a polynomial regression would better fit"
   ]
  },
  {
   "cell_type": "code",
   "execution_count": 82,
   "metadata": {},
   "outputs": [
    {
     "ename": "TypeError",
     "evalue": "expected 1D vector for x",
     "output_type": "error",
     "traceback": [
      "\u001b[1;31m---------------------------------------------------------------------------\u001b[0m",
      "\u001b[1;31mTypeError\u001b[0m                                 Traceback (most recent call last)",
      "Cell \u001b[1;32mIn[82], line 1\u001b[0m\n\u001b[1;32m----> 1\u001b[0m model2 \u001b[39m=\u001b[39m np\u001b[39m.\u001b[39mpoly1d(np\u001b[39m.\u001b[39;49mpolyfit(X, y, \u001b[39m2\u001b[39;49m))\n\u001b[0;32m      3\u001b[0m line \u001b[39m=\u001b[39m np\u001b[39m.\u001b[39mlinspace(\u001b[39m0\u001b[39m, \u001b[39m1\u001b[39m, \u001b[39m1\u001b[39m)\n\u001b[0;32m      5\u001b[0m plt\u001b[39m.\u001b[39mscatter(X, y)\n",
      "File \u001b[1;32m<__array_function__ internals>:180\u001b[0m, in \u001b[0;36mpolyfit\u001b[1;34m(*args, **kwargs)\u001b[0m\n",
      "File \u001b[1;32m~\\AppData\\Local\\Packages\\PythonSoftwareFoundation.Python.3.11_qbz5n2kfra8p0\\LocalCache\\local-packages\\Python311\\site-packages\\numpy\\lib\\polynomial.py:636\u001b[0m, in \u001b[0;36mpolyfit\u001b[1;34m(x, y, deg, rcond, full, w, cov)\u001b[0m\n\u001b[0;32m    634\u001b[0m     \u001b[39mraise\u001b[39;00m \u001b[39mValueError\u001b[39;00m(\u001b[39m\"\u001b[39m\u001b[39mexpected deg >= 0\u001b[39m\u001b[39m\"\u001b[39m)\n\u001b[0;32m    635\u001b[0m \u001b[39mif\u001b[39;00m x\u001b[39m.\u001b[39mndim \u001b[39m!=\u001b[39m \u001b[39m1\u001b[39m:\n\u001b[1;32m--> 636\u001b[0m     \u001b[39mraise\u001b[39;00m \u001b[39mTypeError\u001b[39;00m(\u001b[39m\"\u001b[39m\u001b[39mexpected 1D vector for x\u001b[39m\u001b[39m\"\u001b[39m)\n\u001b[0;32m    637\u001b[0m \u001b[39mif\u001b[39;00m x\u001b[39m.\u001b[39msize \u001b[39m==\u001b[39m \u001b[39m0\u001b[39m:\n\u001b[0;32m    638\u001b[0m     \u001b[39mraise\u001b[39;00m \u001b[39mTypeError\u001b[39;00m(\u001b[39m\"\u001b[39m\u001b[39mexpected non-empty vector for x\u001b[39m\u001b[39m\"\u001b[39m)\n",
      "\u001b[1;31mTypeError\u001b[0m: expected 1D vector for x"
     ]
    }
   ],
   "source": [
    "model2 = np.poly1d(np.polyfit(X, y, 2))\n",
    "\n",
    "line = np.linspace(0, 1, 1)\n",
    "\n",
    "plt.scatter(X, y)\n",
    "plt.plot(line, model2(line))\n",
    "plt.show() "
   ]
  },
  {
   "cell_type": "markdown",
   "metadata": {},
   "source": [
    "### create summary tables"
   ]
  },
  {
   "cell_type": "code",
   "execution_count": 92,
   "metadata": {},
   "outputs": [
    {
     "name": "stdout",
     "output_type": "stream",
     "text": [
      "<class 'pandas.core.frame.DataFrame'>\n",
      "RangeIndex: 154122 entries, 0 to 154121\n",
      "Data columns (total 24 columns):\n",
      " #   Column           Non-Null Count   Dtype  \n",
      "---  ------           --------------   -----  \n",
      " 0   commentID        154122 non-null  object \n",
      " 1   text             154122 non-null  object \n",
      " 2   publishedAt      154122 non-null  object \n",
      " 3   authorID         154122 non-null  object \n",
      " 4   likeCount        154122 non-null  int64  \n",
      " 5   totalReplyCount  154122 non-null  int64  \n",
      " 6   parentID         154122 non-null  object \n",
      " 7   videoID          154122 non-null  object \n",
      " 8   channelId        154122 non-null  object \n",
      " 9   username         154074 non-null  object \n",
      " 10  threat           154121 non-null  float64\n",
      " 11  toxicity         154121 non-null  float64\n",
      " 12  identity_attack  154121 non-null  float64\n",
      " 13  insult           154121 non-null  float64\n",
      " 14  severe_toxicity  154121 non-null  float64\n",
      " 15  sentiment        154122 non-null  object \n",
      " 16  prob_pos         154122 non-null  float64\n",
      " 17  prob_neg         154122 non-null  float64\n",
      " 18  prob_neu         154122 non-null  float64\n",
      " 19  clean_tokens     154122 non-null  object \n",
      " 20  clean_text       150000 non-null  object \n",
      " 21  channelName      154122 non-null  object \n",
      " 22  repliedID        154122 non-null  object \n",
      " 23  repliedName      6190 non-null    object \n",
      "dtypes: float64(8), int64(2), object(14)\n",
      "memory usage: 28.2+ MB\n"
     ]
    }
   ],
   "source": [
    "data.info()"
   ]
  },
  {
   "cell_type": "code",
   "execution_count": 94,
   "metadata": {},
   "outputs": [
    {
     "ename": "ValueError",
     "evalue": "If using all scalar values, you must pass an index",
     "output_type": "error",
     "traceback": [
      "\u001b[1;31m---------------------------------------------------------------------------\u001b[0m",
      "\u001b[1;31mValueError\u001b[0m                                Traceback (most recent call last)",
      "Cell \u001b[1;32mIn[94], line 1\u001b[0m\n\u001b[1;32m----> 1\u001b[0m df_summary \u001b[39m=\u001b[39m pd\u001b[39m.\u001b[39;49mDataFrame(\n\u001b[0;32m      2\u001b[0m     {\n\u001b[0;32m      3\u001b[0m         \u001b[39m\"\u001b[39;49m\u001b[39mavg_gap\u001b[39;49m\u001b[39m\"\u001b[39;49m: data[\u001b[39m\"\u001b[39;49m\u001b[39mtoxicity\u001b[39;49m\u001b[39m\"\u001b[39;49m]\u001b[39m.\u001b[39;49mmean(),\n\u001b[0;32m      4\u001b[0m         \u001b[39m\"\u001b[39;49m\u001b[39mmax_gap\u001b[39;49m\u001b[39m\"\u001b[39;49m: data[\u001b[39m\"\u001b[39;49m\u001b[39mtoxicity\u001b[39;49m\u001b[39m\"\u001b[39;49m]\u001b[39m.\u001b[39;49mmax(),\n\u001b[0;32m      5\u001b[0m         \u001b[39m\"\u001b[39;49m\u001b[39mavg_time\u001b[39;49m\u001b[39m\"\u001b[39;49m: data[\u001b[39m\"\u001b[39;49m\u001b[39mtoxicity\u001b[39;49m\u001b[39m\"\u001b[39;49m]\u001b[39m.\u001b[39;49mmean(),\n\u001b[0;32m      6\u001b[0m     }\n\u001b[0;32m      7\u001b[0m )\n\u001b[0;32m      9\u001b[0m \u001b[39m# Display the summary\u001b[39;00m\n\u001b[0;32m     10\u001b[0m \u001b[39mprint\u001b[39m(df_summary)\n",
      "File \u001b[1;32m~\\AppData\\Local\\Packages\\PythonSoftwareFoundation.Python.3.11_qbz5n2kfra8p0\\LocalCache\\local-packages\\Python311\\site-packages\\pandas\\core\\frame.py:709\u001b[0m, in \u001b[0;36mDataFrame.__init__\u001b[1;34m(self, data, index, columns, dtype, copy)\u001b[0m\n\u001b[0;32m    703\u001b[0m     mgr \u001b[39m=\u001b[39m \u001b[39mself\u001b[39m\u001b[39m.\u001b[39m_init_mgr(\n\u001b[0;32m    704\u001b[0m         data, axes\u001b[39m=\u001b[39m{\u001b[39m\"\u001b[39m\u001b[39mindex\u001b[39m\u001b[39m\"\u001b[39m: index, \u001b[39m\"\u001b[39m\u001b[39mcolumns\u001b[39m\u001b[39m\"\u001b[39m: columns}, dtype\u001b[39m=\u001b[39mdtype, copy\u001b[39m=\u001b[39mcopy\n\u001b[0;32m    705\u001b[0m     )\n\u001b[0;32m    707\u001b[0m \u001b[39melif\u001b[39;00m \u001b[39misinstance\u001b[39m(data, \u001b[39mdict\u001b[39m):\n\u001b[0;32m    708\u001b[0m     \u001b[39m# GH#38939 de facto copy defaults to False only in non-dict cases\u001b[39;00m\n\u001b[1;32m--> 709\u001b[0m     mgr \u001b[39m=\u001b[39m dict_to_mgr(data, index, columns, dtype\u001b[39m=\u001b[39;49mdtype, copy\u001b[39m=\u001b[39;49mcopy, typ\u001b[39m=\u001b[39;49mmanager)\n\u001b[0;32m    710\u001b[0m \u001b[39melif\u001b[39;00m \u001b[39misinstance\u001b[39m(data, ma\u001b[39m.\u001b[39mMaskedArray):\n\u001b[0;32m    711\u001b[0m     \u001b[39mfrom\u001b[39;00m \u001b[39mnumpy\u001b[39;00m\u001b[39m.\u001b[39;00m\u001b[39mma\u001b[39;00m \u001b[39mimport\u001b[39;00m mrecords\n",
      "File \u001b[1;32m~\\AppData\\Local\\Packages\\PythonSoftwareFoundation.Python.3.11_qbz5n2kfra8p0\\LocalCache\\local-packages\\Python311\\site-packages\\pandas\\core\\internals\\construction.py:481\u001b[0m, in \u001b[0;36mdict_to_mgr\u001b[1;34m(data, index, columns, dtype, typ, copy)\u001b[0m\n\u001b[0;32m    477\u001b[0m     \u001b[39melse\u001b[39;00m:\n\u001b[0;32m    478\u001b[0m         \u001b[39m# dtype check to exclude e.g. range objects, scalars\u001b[39;00m\n\u001b[0;32m    479\u001b[0m         arrays \u001b[39m=\u001b[39m [x\u001b[39m.\u001b[39mcopy() \u001b[39mif\u001b[39;00m \u001b[39mhasattr\u001b[39m(x, \u001b[39m\"\u001b[39m\u001b[39mdtype\u001b[39m\u001b[39m\"\u001b[39m) \u001b[39melse\u001b[39;00m x \u001b[39mfor\u001b[39;00m x \u001b[39min\u001b[39;00m arrays]\n\u001b[1;32m--> 481\u001b[0m \u001b[39mreturn\u001b[39;00m arrays_to_mgr(arrays, columns, index, dtype\u001b[39m=\u001b[39;49mdtype, typ\u001b[39m=\u001b[39;49mtyp, consolidate\u001b[39m=\u001b[39;49mcopy)\n",
      "File \u001b[1;32m~\\AppData\\Local\\Packages\\PythonSoftwareFoundation.Python.3.11_qbz5n2kfra8p0\\LocalCache\\local-packages\\Python311\\site-packages\\pandas\\core\\internals\\construction.py:115\u001b[0m, in \u001b[0;36marrays_to_mgr\u001b[1;34m(arrays, columns, index, dtype, verify_integrity, typ, consolidate)\u001b[0m\n\u001b[0;32m    112\u001b[0m \u001b[39mif\u001b[39;00m verify_integrity:\n\u001b[0;32m    113\u001b[0m     \u001b[39m# figure out the index, if necessary\u001b[39;00m\n\u001b[0;32m    114\u001b[0m     \u001b[39mif\u001b[39;00m index \u001b[39mis\u001b[39;00m \u001b[39mNone\u001b[39;00m:\n\u001b[1;32m--> 115\u001b[0m         index \u001b[39m=\u001b[39m _extract_index(arrays)\n\u001b[0;32m    116\u001b[0m     \u001b[39melse\u001b[39;00m:\n\u001b[0;32m    117\u001b[0m         index \u001b[39m=\u001b[39m ensure_index(index)\n",
      "File \u001b[1;32m~\\AppData\\Local\\Packages\\PythonSoftwareFoundation.Python.3.11_qbz5n2kfra8p0\\LocalCache\\local-packages\\Python311\\site-packages\\pandas\\core\\internals\\construction.py:645\u001b[0m, in \u001b[0;36m_extract_index\u001b[1;34m(data)\u001b[0m\n\u001b[0;32m    642\u001b[0m         \u001b[39mraise\u001b[39;00m \u001b[39mValueError\u001b[39;00m(\u001b[39m\"\u001b[39m\u001b[39mPer-column arrays must each be 1-dimensional\u001b[39m\u001b[39m\"\u001b[39m)\n\u001b[0;32m    644\u001b[0m \u001b[39mif\u001b[39;00m \u001b[39mnot\u001b[39;00m indexes \u001b[39mand\u001b[39;00m \u001b[39mnot\u001b[39;00m raw_lengths:\n\u001b[1;32m--> 645\u001b[0m     \u001b[39mraise\u001b[39;00m \u001b[39mValueError\u001b[39;00m(\u001b[39m\"\u001b[39m\u001b[39mIf using all scalar values, you must pass an index\u001b[39m\u001b[39m\"\u001b[39m)\n\u001b[0;32m    647\u001b[0m \u001b[39mif\u001b[39;00m have_series:\n\u001b[0;32m    648\u001b[0m     index \u001b[39m=\u001b[39m union_indexes(indexes)\n",
      "\u001b[1;31mValueError\u001b[0m: If using all scalar values, you must pass an index"
     ]
    }
   ],
   "source": [
    "df_summary = pd.DataFrame(\n",
    "    {\n",
    "        \"avg_gap\": data[\"toxicity\"].mean(),\n",
    "        \"max_gap\": data[\"toxicity\"].max(),\n",
    "        \"avg_time\": data[\"toxicity\"].mean(),\n",
    "    }\n",
    ")\n",
    "\n",
    "# Display the summary\n",
    "print(df_summary)"
   ]
  }
 ],
 "metadata": {
  "kernelspec": {
   "display_name": "Python 3 (ipykernel)",
   "language": "python",
   "name": "python3"
  },
  "language_info": {
   "codemirror_mode": {
    "name": "ipython",
    "version": 3
   },
   "file_extension": ".py",
   "mimetype": "text/x-python",
   "name": "python",
   "nbconvert_exporter": "python",
   "pygments_lexer": "ipython3",
   "version": "3.9.13"
  }
 },
 "nbformat": 4,
 "nbformat_minor": 4
}
